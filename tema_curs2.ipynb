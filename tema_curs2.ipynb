{
 "cells": [
  {
   "cell_type": "code",
   "execution_count": 2,
   "id": "516c7605",
   "metadata": {},
   "outputs": [],
   "source": [
    "# 1. if else = if else este un contidional folosit in limbajul de programare Python si va executa o afirmatie daca aceasta este Adevarata (True)\n",
    "# if se foloseste pentru a desemna o conditie\n",
    "# elif se foloseste pentru a desemna o conditie diferita fata de cea anterioara\n",
    "# else se foloseste doar cand niciuna din celelalte conditii nu este indeplinita"
   ]
  },
  {
   "cell_type": "code",
   "execution_count": 18,
   "id": "fece75f4",
   "metadata": {},
   "outputs": [
    {
     "name": "stdout",
     "output_type": "stream",
     "text": [
      "X este numar natural\n"
     ]
    }
   ],
   "source": [
    "# 2.\n",
    "x = 1\n",
    "x = int(x)\n",
    "if x >=1:\n",
    "    print(f'X este numar natural')\n",
    "elif x < 0:\n",
    "    print(f'X nu este numar natural')"
   ]
  },
  {
   "cell_type": "code",
   "execution_count": 5,
   "id": "deff2b2e",
   "metadata": {},
   "outputs": [
    {
     "name": "stdout",
     "output_type": "stream",
     "text": [
      "X este numar pozitiv\n"
     ]
    }
   ],
   "source": [
    "# 3.\n",
    "x = 1\n",
    "if x > 0:\n",
    "    print(f'X este numar pozitiv')\n",
    "elif x < 0:\n",
    "    print(f'X este numar negativ')\n",
    "elif x == 0:\n",
    "    print(f'X este numar neutru')"
   ]
  },
  {
   "cell_type": "code",
   "execution_count": 6,
   "id": "4b726c08",
   "metadata": {},
   "outputs": [
    {
     "name": "stdout",
     "output_type": "stream",
     "text": [
      "2 este in list\n"
     ]
    }
   ],
   "source": [
    "# 4.\n",
    "list = [-2, -1, 0, 1, 2, 3, 4, 5, 6, 7, 8, 9, 10, 11, 12]\n",
    "if 2 in list:\n",
    "    print(f'2 este in list')\n",
    "else:\n",
    "    print(f'2 nu este in list')"
   ]
  },
  {
   "cell_type": "code",
   "execution_count": 7,
   "id": "1bbf0c8e",
   "metadata": {},
   "outputs": [
    {
     "name": "stdout",
     "output_type": "stream",
     "text": [
      "Diferenta este mai mica decat 5\n"
     ]
    }
   ],
   "source": [
    "# 5.\n",
    "x = 8\n",
    "y = 5\n",
    "if x - y < 5:\n",
    "    print(f'Diferenta este mai mica decat 5')\n",
    "else:\n",
    "    print(f'Diferenta este mai mare decat 5')"
   ]
  },
  {
   "cell_type": "code",
   "execution_count": 13,
   "id": "06aa4e37",
   "metadata": {},
   "outputs": [
    {
     "data": {
      "text/plain": [
       "False"
      ]
     },
     "execution_count": 13,
     "metadata": {},
     "output_type": "execute_result"
    }
   ],
   "source": [
    "# 6.\n",
    "x = 14\n",
    "list = [5, 10, 14, 19, 27]\n",
    "x not in list"
   ]
  },
  {
   "cell_type": "code",
   "execution_count": 16,
   "id": "69e2fc40",
   "metadata": {},
   "outputs": [
    {
     "name": "stdout",
     "output_type": "stream",
     "text": [
      "y\n"
     ]
    }
   ],
   "source": [
    "# 7.\n",
    "x = 4\n",
    "y = 7\n",
    "if x == y:\n",
    "    print(f'x este egal cu y')\n",
    "elif x < y:\n",
    "    print('y')\n"
   ]
  },
  {
   "cell_type": "code",
   "execution_count": 25,
   "id": "407a3575",
   "metadata": {},
   "outputs": [
    {
     "name": "stdout",
     "output_type": "stream",
     "text": [
      "Triunghiul este echilateral\n"
     ]
    }
   ],
   "source": [
    "# 8.\n",
    "x = y \n",
    "z = x\n",
    "y = z\n",
    "if x == y == z:\n",
    "    print(f'Triunghiul este echilateral')\n",
    "elif x == y > z:\n",
    "    print(f'Triunghiul este isoscel')\n",
    "else:\n",
    "    print(f'Triunghi oarecare')"
   ]
  },
  {
   "cell_type": "code",
   "execution_count": 28,
   "id": "849ada7e",
   "metadata": {},
   "outputs": [
    {
     "name": "stdout",
     "output_type": "stream",
     "text": [
      "Scrieti o litera: a\n",
      "Litera este o vocala\n"
     ]
    }
   ],
   "source": [
    "# 9.\n",
    "vocale = ['a', 'e', 'i', 'o', 'u']\n",
    "litera = input('Scrieti o litera: ')\n",
    "if litera in vocale:\n",
    "    print(f'Litera este o vocala')\n",
    "else:\n",
    "    print(f'Litera nu este o vocala')"
   ]
  },
  {
   "cell_type": "code",
   "execution_count": 31,
   "id": "3d3f5f79",
   "metadata": {},
   "outputs": [
    {
     "name": "stdout",
     "output_type": "stream",
     "text": [
      "Nota test: 9.4\n",
      "A\n"
     ]
    }
   ],
   "source": [
    "# 10.\n",
    "nota = input('Nota test: ')\n",
    "nota = float(nota)\n",
    "\n",
    "if nota >= 9:\n",
    "    print(f'A')\n",
    "elif nota >= 8:\n",
    "    print(f'B')\n",
    "elif nota >= 7:\n",
    "    print(f'C')\n",
    "elif nota >= 6:\n",
    "    print(f'D')\n",
    "elif nota >= 5:\n",
    "    print(f'E')\n",
    "elif nota >= 4:\n",
    "    print(f'F')"
   ]
  },
  {
   "cell_type": "code",
   "execution_count": 4,
   "id": "e1dd2a57",
   "metadata": {},
   "outputs": [
    {
     "name": "stdout",
     "output_type": "stream",
     "text": [
      "Introduceti un string de dim impara: para\n",
      "Ati introdus un string de dimensiune para!!\n"
     ]
    }
   ],
   "source": [
    "# C02_EX01 (HOMEWORK): Modificati exercitiul de mai sus, astfel incat sa nu accepte stringuri de dimensiune para. Daca cumva primim\n",
    "# un string de dimensiune para, sa se afiseze: \"Ati introdus un string de dimensiune para!!\"\n",
    "\n",
    "my_string = input('Introduceti un string de dim impara: ')\n",
    "\n",
    "if len(my_string) % 2 == 0:\n",
    "    print(f'Ati introdus un string de dimensiune para!!')\n",
    "elif len(my_string) % 2 == float:\n",
    "    print(f'Ati introdus string de dimensiune impara')"
   ]
  },
  {
   "cell_type": "code",
   "execution_count": 8,
   "id": "df9c3825",
   "metadata": {},
   "outputs": [
    {
     "name": "stdout",
     "output_type": "stream",
     "text": [
      "AuPorschedi\n"
     ]
    }
   ],
   "source": [
    "# C02_EX02 (HOMEWORK): Given a string s1, append another string s2 in the middle of s1\n",
    "# e.g.:  s1 = 'Legendary', s2 = 'wait'  => 'Legewaitndary'\n",
    "#        s1 = 'mama', s2 = 'MIA'  =>  'maMIAma'\n",
    "\n",
    "s1 = 'Audi'\n",
    "s2 = 'Porsche'\n",
    "cuvant_final = s1[:2] + s2 + s1[2:]\n",
    "print(cuvant_final)"
   ]
  },
  {
   "cell_type": "code",
   "execution_count": 13,
   "id": "87bbc41c",
   "metadata": {},
   "outputs": [
    {
     "name": "stdout",
     "output_type": "stream",
     "text": [
      "X are minim 4 cifre\n"
     ]
    }
   ],
   "source": [
    "# ex optionale\n",
    "\n",
    "# 11.\n",
    "x = 3488\n",
    "x = int\n",
    "if len(str(x)) >= 4:\n",
    "    print(f'X are minim 4 cifre')\n",
    "elif len(str(x)) < 4:\n",
    "    print(f'X nu are minim 4 cifre')"
   ]
  },
  {
   "cell_type": "code",
   "execution_count": 15,
   "id": "db046fb9",
   "metadata": {},
   "outputs": [
    {
     "name": "stdout",
     "output_type": "stream",
     "text": [
      "-348812\n",
      "7\n",
      "X are exact 6 cifre\n"
     ]
    }
   ],
   "source": [
    "# 12.\n",
    "x = -348812\n",
    "x = str(x)\n",
    "print (str(x))\n",
    "print (len(str(x)))\n",
    "# len = 7 si contine . sau len = 6 si nu contine .\n",
    "if len(x) == 7 and '.' in x or len(x) == 6 and '.' not in x or len(x) == 8 and '-' in x and '.' in x or len(x) == 7 and '-' in x:\n",
    "    print(f'X are exact 6 cifre')\n",
    "else:\n",
    "    print(f'X nu are mai mult de 6 cifre')"
   ]
  },
  {
   "cell_type": "code",
   "execution_count": 1,
   "id": "c45108f2",
   "metadata": {},
   "outputs": [
    {
     "name": "stdout",
     "output_type": "stream",
     "text": [
      "X este numar par\n"
     ]
    }
   ],
   "source": [
    "# 13.\n",
    "x = 3488\n",
    "if x % 2 == 0:\n",
    "    print(f'X este numar par')\n",
    "else:\n",
    "    print(f'X este numar impar')"
   ]
  },
  {
   "cell_type": "code",
   "execution_count": 23,
   "id": "a9154fe6",
   "metadata": {},
   "outputs": [
    {
     "name": "stdout",
     "output_type": "stream",
     "text": [
      "Cel mai mare numar dintre 4, 6, 8, este 8\n"
     ]
    }
   ],
   "source": [
    "# 14.\n",
    "x = 4\n",
    "y = 6\n",
    "z = 8\n",
    "lista_numere = [4, 6, 8]\n",
    "print(f'Cel mai mare numar dintre {x}, {y}, {z}, este {max(lista_numere)}')"
   ]
  },
  {
   "cell_type": "code",
   "execution_count": 24,
   "id": "f47c978f",
   "metadata": {},
   "outputs": [
    {
     "name": "stdout",
     "output_type": "stream",
     "text": [
      "is either the stupidest animal or the smartes\n"
     ]
    }
   ],
   "source": [
    "# 17.\n",
    "string = 'Coral is either the stupidest animal or the smartest rock'\n",
    "print(string[6:-6])"
   ]
  },
  {
   "cell_type": "code",
   "execution_count": 25,
   "id": "e86b4b02",
   "metadata": {},
   "outputs": [
    {
     "name": "stdout",
     "output_type": "stream",
     "text": [
      "Numerele pare sunt: 02468\n",
      "Numerele impare sunt: 13579\n"
     ]
    }
   ],
   "source": [
    "# 20.\n",
    "string = '0123456789'\n",
    "print(f'Numerele pare sunt: {string[0::2]}')\n",
    "print(f'Numerele impare sunt: {string[1::2]}')"
   ]
  },
  {
   "cell_type": "code",
   "execution_count": null,
   "id": "83224f3b",
   "metadata": {},
   "outputs": [],
   "source": []
  }
 ],
 "metadata": {
  "kernelspec": {
   "display_name": "Python 3 (ipykernel)",
   "language": "python",
   "name": "python3"
  },
  "language_info": {
   "codemirror_mode": {
    "name": "ipython",
    "version": 3
   },
   "file_extension": ".py",
   "mimetype": "text/x-python",
   "name": "python",
   "nbconvert_exporter": "python",
   "pygments_lexer": "ipython3",
   "version": "3.10.7"
  }
 },
 "nbformat": 4,
 "nbformat_minor": 5
}
