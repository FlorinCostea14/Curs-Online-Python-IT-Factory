{
 "cells": [
  {
   "cell_type": "code",
   "execution_count": 10,
   "id": "426740c7",
   "metadata": {},
   "outputs": [
    {
     "name": "stdout",
     "output_type": "stream",
     "text": [
      "Masina mea preferata este: Audi\n",
      "Masina mea preferata este: Volvo\n",
      "Masina mea preferata este: BMW\n",
      "Masina mea preferata este: Mercedes\n",
      "Masina mea preferata este: Aston Martin\n",
      "Masina mea preferata este: Lastun\n",
      "Masina mea preferata este: Fiat\n",
      "Masina mea preferata este: Trabant\n",
      "Masina mea preferata este: Opel\n"
     ]
    }
   ],
   "source": [
    "# 1.\n",
    "masini = ['Audi', 'Volvo', 'BMW', 'Mercedes', 'Aston Martin', 'Lastun', 'Fiat', 'Trabant', 'Opel']\n",
    "\n",
    "# a).\n",
    "for elem in range(len(masini)):\n",
    "    print(f'Masina mea preferata este:', masini[elem])"
   ]
  },
  {
   "cell_type": "code",
   "execution_count": 8,
   "id": "e52e9f4d",
   "metadata": {},
   "outputs": [
    {
     "name": "stdout",
     "output_type": "stream",
     "text": [
      "Masina mea preferata este: Audi\n",
      "Masina mea preferata este: Volvo\n",
      "Masina mea preferata este: BMW\n",
      "Masina mea preferata este: Mercedes\n",
      "Masina mea preferata este: Aston Martin\n",
      "Masina mea preferata este: Lastun\n",
      "Masina mea preferata este: Fiat\n",
      "Masina mea preferata este: Trabant\n",
      "Masina mea preferata este: Opel\n"
     ]
    }
   ],
   "source": [
    "# b).\n",
    "masini = ['Audi', 'Volvo', 'BMW', 'Mercedes', 'Aston Martin', 'Lastun', 'Fiat', 'Trabant', 'Opel']\n",
    "for elem in masini:\n",
    "    print(f'Masina mea preferata este:', elem)\n"
   ]
  },
  {
   "cell_type": "code",
   "execution_count": 7,
   "id": "7b7ffab6",
   "metadata": {},
   "outputs": [
    {
     "name": "stdout",
     "output_type": "stream",
     "text": [
      "Masina mea preferata este: Audi\n",
      "Masina mea preferata este: Volvo\n",
      "Masina mea preferata este: BMW\n",
      "Masina mea preferata este: Mercedes\n",
      "Masina mea preferata este: Aston Martin\n",
      "Masina mea preferata este: Lastun\n",
      "Masina mea preferata este: Fiat\n",
      "Masina mea preferata este: Trabant\n",
      "Masina mea preferata este: Opel\n"
     ]
    }
   ],
   "source": [
    "# c).\n",
    "masini = ['Audi', 'Volvo', 'BMW', 'Mercedes', 'Aston Martin', 'Lastun', 'Fiat', 'Trabant', 'Opel']\n",
    "l = len(masini)\n",
    "x = 0\n",
    "while x < l:\n",
    "    print(f'Masina mea preferata este:', masini[x])\n",
    "    x += 1"
   ]
  },
  {
   "cell_type": "code",
   "execution_count": 11,
   "id": "3ec9f0f3",
   "metadata": {},
   "outputs": [],
   "source": [
    "# 2.\n",
    "masini = ['Audi', 'Volvo', 'BMW', 'Mercedes', 'Aston Martin', 'Lastun', 'Fiat', 'Trabant', 'Opel']\n",
    "\n",
    "#v1:\n",
    "\n",
    "#v2:"
   ]
  },
  {
   "cell_type": "code",
   "execution_count": 13,
   "id": "407f1613",
   "metadata": {},
   "outputs": [
    {
     "name": "stdout",
     "output_type": "stream",
     "text": [
      "Am gasit masina dorita de dvs\n"
     ]
    }
   ],
   "source": [
    "# 3.\n",
    "masini = ['Audi', 'Volvo', 'BMW', 'Mercedes', 'Aston Martin', 'Lastun', 'Fiat', 'Trabant', 'Opel']\n",
    "\n",
    "for x in masini:\n",
    "    if x == 'Mercedes':\n",
    "        print(f'Am gasit masina dorita de dvs')\n",
    "        break\n",
    "else:\n",
    "    print(f'Am gasit masina {x}. Mai cautam')\n"
   ]
  },
  {
   "cell_type": "code",
   "execution_count": 17,
   "id": "48279a76",
   "metadata": {},
   "outputs": [
    {
     "name": "stdout",
     "output_type": "stream",
     "text": [
      "S-ar putea sa va placa masina Audi\n",
      "S-ar putea sa va placa masina Volvo\n",
      "S-ar putea sa va placa masina BMW\n",
      "S-ar putea sa va placa masina Mercedes\n",
      "S-ar putea sa va placa masina Aston Martin\n",
      "S-ar putea sa va placa masina Fiat\n",
      "S-ar putea sa va placa masina Opel\n"
     ]
    }
   ],
   "source": [
    "# 4.\n",
    "masini = ['Audi', 'Volvo', 'BMW', 'Mercedes', 'Aston Martin', 'Lastun', 'Fiat', 'Trabant', 'Opel']\n",
    "\n",
    "for x in masini:\n",
    "    if x == 'Lastun':\n",
    "        continue\n",
    "    if x == 'Trabant':\n",
    "        continue\n",
    "    print(f'S-ar putea sa va placa masina {x}')"
   ]
  },
  {
   "cell_type": "code",
   "execution_count": 24,
   "id": "8207beee",
   "metadata": {},
   "outputs": [
    {
     "name": "stdout",
     "output_type": "stream",
     "text": [
      "['Lastun', 'Trabant']\n",
      "['Audi', 'Volvo', 'BMW', 'Mercedes', 'Aston Martin', 'Fiat', 'Opel', 'Tesla', 'Tesla']\n"
     ]
    }
   ],
   "source": [
    "# 5.\n",
    "masini = ['Audi', 'Volvo', 'BMW', 'Mercedes', 'Aston Martin', 'Lastun', 'Fiat', 'Trabant', 'Opel']\n",
    "masini_vechi = []\n",
    "\n",
    "for x in masini:\n",
    "    if x in ('Lastun', 'Trabant'):\n",
    "        masini_vechi.append(x)\n",
    "        masini.remove(x)\n",
    "        masini.append('Tesla')\n",
    "print(masini_vechi)\n",
    "print(masini)\n",
    "\n",
    "        \n",
    "        "
   ]
  },
  {
   "cell_type": "code",
   "execution_count": 32,
   "id": "301431e0",
   "metadata": {},
   "outputs": [
    {
     "name": "stdout",
     "output_type": "stream",
     "text": [
      "Pentru un buget de sub 15000 euro puteti alege masina Dacia\n",
      "Pentru un buget de sub 15000 euro puteti alege masina Lastun\n",
      "Pentru un buget de sub 15000 euro puteti alege masina Opel\n"
     ]
    }
   ],
   "source": [
    "# 6.\n",
    "pret_masini = {\n",
    "    'Dacia': 6800,\n",
    "    'Lastun': 500,\n",
    "    'Opel': 1100,\n",
    "    'Audi': 19000,\n",
    "    'BMW': 23000\n",
    "}\n",
    "buget = 15000\n",
    "buget = int(buget)\n",
    "for x, y in pret_masini.items():\n",
    "    if y <= buget:\n",
    "        print(f'Pentru un buget de sub 15000 euro puteti alege masina {x}')"
   ]
  },
  {
   "cell_type": "code",
   "execution_count": 37,
   "id": "46c5b915",
   "metadata": {},
   "outputs": [],
   "source": [
    "# 7.\n",
    "numere = [5, 7, 3, 9, 3, 3, 1, 0, -4, 3]"
   ]
  },
  {
   "cell_type": "code",
   "execution_count": 43,
   "id": "ffbea35f",
   "metadata": {},
   "outputs": [],
   "source": [
    "# 8.\n",
    "numere = [5, 7, 3, 9, 3, 3, 1, 0, -4, 3]\n",
    "    "
   ]
  },
  {
   "cell_type": "code",
   "execution_count": 49,
   "id": "3f9d4991",
   "metadata": {},
   "outputs": [],
   "source": [
    "# 9.\n",
    "numere = [5, 7, 3, 9, 3, 3, 1, 0, -4, 3]"
   ]
  },
  {
   "cell_type": "code",
   "execution_count": 1,
   "id": "474b3506",
   "metadata": {},
   "outputs": [
    {
     "name": "stdout",
     "output_type": "stream",
     "text": [
      "[-5, -7, -3, -9, -3, -3, -1, 0, -4, -3]\n"
     ]
    }
   ],
   "source": [
    "# 10.\n",
    "numere = [5, 7, 3, 9, 3, 3, 1, 0, -4, 3]\n",
    "\n",
    "for x in range(len(numere)):\n",
    "    if numere[x] > 0: \n",
    "        numere[x] = -numere[x]\n",
    "print(numere)"
   ]
  },
  {
   "cell_type": "code",
   "execution_count": 5,
   "id": "1c8d7f73",
   "metadata": {},
   "outputs": [
    {
     "name": "stdout",
     "output_type": "stream",
     "text": [
      "[-5, -7, -3, -9, -3, -3, -1, 0, -4, -3]\n"
     ]
    }
   ],
   "source": [
    "numere = [5, 7, 3, 9, 3, 3, 1, 0, -4, 3]\n",
    "\n",
    "for x in range(len(numere)):\n",
    "    numere[x] = -abs(numere[x])\n",
    "print(numere)"
   ]
  },
  {
   "cell_type": "code",
   "execution_count": null,
   "id": "98bfe805",
   "metadata": {},
   "outputs": [],
   "source": []
  },
  {
   "cell_type": "code",
   "execution_count": 80,
   "id": "a8ba11c2",
   "metadata": {},
   "outputs": [
    {
     "name": "stdout",
     "output_type": "stream",
     "text": [
      "[2, 12, -6, -4]\n",
      "[-5, 7, 9, 3, 1, 3]\n",
      "[7, 2, 9, 12, 3, 1, 3]\n",
      "[-5, -6, -4]\n"
     ]
    }
   ],
   "source": [
    "# optionale:\n",
    "# 11.\n",
    "alte_numere = [-5, 7, 2, 9, 12, 3, 1, -6, -4, 3]\n",
    "numere_pare = []\n",
    "numere_impare = []\n",
    "numere_pozitive = []\n",
    "numere_negative = []\n",
    "\n",
    "for x in alte_numere:\n",
    "    if x % 2 == 0:\n",
    "        numere_pare.append(x)\n",
    "    if x % 2 != 0:\n",
    "        numere_impare.append(x)\n",
    "    if x > 0:\n",
    "        numere_pozitive.append(x)\n",
    "    if x < 0:\n",
    "        numere_negative.append(x)\n",
    "print(numere_pare)\n",
    "print(numere_impare)\n",
    "print(numere_pozitive)\n",
    "print(numere_negative)"
   ]
  },
  {
   "cell_type": "code",
   "execution_count": 1,
   "id": "9bcabda7",
   "metadata": {},
   "outputs": [
    {
     "name": "stdout",
     "output_type": "stream",
     "text": [
      "Numar pentru piramida: 6\n",
      "\n",
      "1\n",
      "22\n",
      "333\n",
      "4444\n",
      "55555\n",
      "666666\n"
     ]
    }
   ],
   "source": [
    "# 14.\n",
    "\n",
    "rows = int(input('Numar pentru piramida: '))\n",
    "for x in range(rows+1):\n",
    "    for y in range(x):\n",
    "        print(x, end='')\n",
    "    print('')"
   ]
  },
  {
   "cell_type": "code",
   "execution_count": null,
   "id": "d9e3ee9c",
   "metadata": {},
   "outputs": [],
   "source": []
  }
 ],
 "metadata": {
  "kernelspec": {
   "display_name": "Python 3 (ipykernel)",
   "language": "python",
   "name": "python3"
  },
  "language_info": {
   "codemirror_mode": {
    "name": "ipython",
    "version": 3
   },
   "file_extension": ".py",
   "mimetype": "text/x-python",
   "name": "python",
   "nbconvert_exporter": "python",
   "pygments_lexer": "ipython3",
   "version": "3.10.7"
  }
 },
 "nbformat": 4,
 "nbformat_minor": 5
}
