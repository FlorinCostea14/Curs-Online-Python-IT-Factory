{
 "cells": [
  {
   "cell_type": "code",
   "execution_count": 5,
   "id": "c57d042e",
   "metadata": {},
   "outputs": [
    {
     "data": {
      "text/plain": [
       "8"
      ]
     },
     "execution_count": 5,
     "metadata": {},
     "output_type": "execute_result"
    }
   ],
   "source": [
    "# 1.\n",
    "def sum_2(nr1, nr2):\n",
    "    return(nr1 + nr2)\n",
    "\n",
    "sum_2(3, 5)"
   ]
  },
  {
   "cell_type": "code",
   "execution_count": 26,
   "id": "e247110f",
   "metadata": {},
   "outputs": [
    {
     "name": "stdout",
     "output_type": "stream",
     "text": [
      "False\n"
     ]
    }
   ],
   "source": [
    "# 2.\n",
    "def verif_numar(numar):\n",
    "    if numar % 2 == 0:\n",
    "        return True\n",
    "    else:\n",
    "        return False\n",
    "    \n",
    "print(verif_numar(5))"
   ]
  },
  {
   "cell_type": "code",
   "execution_count": 39,
   "id": "97f37244",
   "metadata": {},
   "outputs": [
    {
     "name": "stdout",
     "output_type": "stream",
     "text": [
      "12\n"
     ]
    }
   ],
   "source": [
    "# 3.\n",
    "def nume_complet(nume, prenume):\n",
    "    print(len(nume + prenume))\n",
    "\n",
    "nume_complet('Costea', 'Florin')\n"
   ]
  },
  {
   "cell_type": "code",
   "execution_count": 12,
   "id": "00c4d539",
   "metadata": {},
   "outputs": [
    {
     "data": {
      "text/plain": [
       "30"
      ]
     },
     "execution_count": 12,
     "metadata": {},
     "output_type": "execute_result"
    }
   ],
   "source": [
    "# 4.\n",
    "def aria_dreptunghi(L, l):\n",
    "    return(L * l)\n",
    "\n",
    "aria_dreptunghi(5, 6)"
   ]
  },
  {
   "cell_type": "code",
   "execution_count": 10,
   "id": "25e6e2ac",
   "metadata": {},
   "outputs": [
    {
     "name": "stdout",
     "output_type": "stream",
     "text": [
      "3.14\n"
     ]
    }
   ],
   "source": [
    "# 5.\n",
    "def valoarea_lui_pi():\n",
    "    return 3.14\n",
    "\n",
    "print(valoarea_lui_pi())"
   ]
  },
  {
   "cell_type": "code",
   "execution_count": 1,
   "id": "872cea21",
   "metadata": {},
   "outputs": [
    {
     "data": {
      "text/plain": [
       "True"
      ]
     },
     "execution_count": 1,
     "metadata": {},
     "output_type": "execute_result"
    }
   ],
   "source": [
    "# 6.\n",
    "def litera(x, fraza):\n",
    "    return 'x' in fraza\n",
    "\n",
    "litera('o', 'Mi-am cumparat un iPhone XS Max')\n"
   ]
  },
  {
   "cell_type": "code",
   "execution_count": 1,
   "id": "c1ddf37f",
   "metadata": {},
   "outputs": [
    {
     "name": "stdout",
     "output_type": "stream",
     "text": [
      "[5, 6, 9]\n"
     ]
    }
   ],
   "source": [
    "# 8.\n",
    "def lista_numere_poz(lst):\n",
    "    rez_lista = []\n",
    "    for n in lst:\n",
    "        if n > 0:\n",
    "            rez_lista.append(n)\n",
    "    return rez_lista\n",
    "print(lista_numere_poz([-6, -4, 5, 6, -7, 0, 9]))"
   ]
  },
  {
   "cell_type": "code",
   "execution_count": 50,
   "id": "e6a6ba2a",
   "metadata": {},
   "outputs": [
    {
     "name": "stdout",
     "output_type": "stream",
     "text": [
      "Al doilea nr 8 este mai mare decat primul nr 4.\n"
     ]
    }
   ],
   "source": [
    "# 9.\n",
    "def valori(x, y):\n",
    "    if x > y:\n",
    "        print(f'Primul numar {x} este mai mare decat al doilea nr {y}.')\n",
    "    elif x < y:\n",
    "        print(f'Al doilea nr {y} este mai mare decat primul nr {x}.')\n",
    "    elif x == y:\n",
    "        print(f'Numerele sunt egale')\n",
    "\n",
    "valori(4, 8)\n",
    "    "
   ]
  },
  {
   "cell_type": "code",
   "execution_count": 12,
   "id": "694268dd",
   "metadata": {},
   "outputs": [
    {
     "name": "stdout",
     "output_type": "stream",
     "text": [
      "Am adaugat numarul nou in set\n",
      "True\n"
     ]
    }
   ],
   "source": [
    "# 10.\n",
    "def numar_si_setnumere(n, numbers):\n",
    "    if n in numbers:\n",
    "        print(f'Nu am adaugat numarul in set. Acesta exista deja')\n",
    "        return False\n",
    "    else:\n",
    "        numbers.add(n)\n",
    "        print(f'Am adaugat numarul nou in set')\n",
    "        return True\n",
    "\n",
    "print(numar_si_setnumere(3, {6, 8, 9}))"
   ]
  },
  {
   "cell_type": "code",
   "execution_count": 29,
   "id": "0fd14784",
   "metadata": {},
   "outputs": [
    {
     "name": "stdout",
     "output_type": "stream",
     "text": [
      "28\n"
     ]
    }
   ],
   "source": [
    "# 11.\n",
    "from calendar import monthrange\n",
    "\n",
    "def zile_luna(luna):\n",
    "    return monthrange(2022, luna)[1]\n",
    "print(zile_luna(2))\n",
    "    "
   ]
  },
  {
   "cell_type": "code",
   "execution_count": 13,
   "id": "057e1b49",
   "metadata": {},
   "outputs": [
    {
     "name": "stdout",
     "output_type": "stream",
     "text": [
      "10\n"
     ]
    }
   ],
   "source": [
    "# 14.\n",
    "def numbers(nr1, nr2, nr3):\n",
    "    return max(nr1, nr2, nr3)\n",
    "print(numbers(3, 8, 10))"
   ]
  },
  {
   "cell_type": "code",
   "execution_count": 15,
   "id": "62a50293",
   "metadata": {},
   "outputs": [
    {
     "name": "stdout",
     "output_type": "stream",
     "text": [
      "15\n"
     ]
    }
   ],
   "source": [
    "# 15.\n",
    "def sum_numere(n):\n",
    "    s = 0\n",
    "    for x in range(n + 1):\n",
    "        s += x\n",
    "    return s\n",
    "print(sum_numere(5))"
   ]
  },
  {
   "cell_type": "code",
   "execution_count": 21,
   "id": "82da32bb",
   "metadata": {},
   "outputs": [
    {
     "name": "stdout",
     "output_type": "stream",
     "text": [
      "Alege un numar: 5\n",
      "Numarul ales este pozitiv\n",
      "Sfarsitul functiei\n",
      "None\n"
     ]
    }
   ],
   "source": [
    "# 16.\n",
    "def tip_numar():\n",
    "    nr = input(f'Alege un numar: ')\n",
    "    try:\n",
    "        nr = float(nr)\n",
    "    except ValueError:\n",
    "        print(f'Nu ati ales un numar valid')\n",
    "    else:\n",
    "        if nr > 0:\n",
    "            print(f'Numarul ales este pozitiv')\n",
    "        elif nr < 0:\n",
    "            print(f'Numarul ales este negativ')\n",
    "        elif nr == 0:\n",
    "            print(f'Numar ales este 0')\n",
    "    finally:\n",
    "        print(f'Sfarsitul functiei')\n",
    "\n",
    "print(tip_numar())\n",
    "            "
   ]
  },
  {
   "cell_type": "code",
   "execution_count": 23,
   "id": "ebea3952",
   "metadata": {},
   "outputs": [
    {
     "name": "stdout",
     "output_type": "stream",
     "text": [
      "{8, 4}\n"
     ]
    }
   ],
   "source": [
    "# 17.\n",
    "def lista_numere(lst1, lst2):\n",
    "    return set(lst1) & set(lst2)\n",
    "\n",
    "print(lista_numere([1, 4, 6, 8, 9], [3, 4, 8, 10, 12]))"
   ]
  },
  {
   "cell_type": "code",
   "execution_count": 26,
   "id": "d312d8f2",
   "metadata": {},
   "outputs": [
    {
     "name": "stdout",
     "output_type": "stream",
     "text": [
      "Numele ales este de fata\n"
     ]
    }
   ],
   "source": [
    "# 21.\n",
    "def baby_name(name):\n",
    "    if name[-1] == 'a' or name in ('Carmen', 'Evelin', 'Viviene'):\n",
    "        print(f'Numele ales este de fata')\n",
    "    else:\n",
    "        print(f'Numele ales este de baiat')\n",
    "baby_name('Viviene')"
   ]
  },
  {
   "cell_type": "code",
   "execution_count": null,
   "id": "255e0c73",
   "metadata": {},
   "outputs": [],
   "source": [
    "\n"
   ]
  }
 ],
 "metadata": {
  "kernelspec": {
   "display_name": "Python 3 (ipykernel)",
   "language": "python",
   "name": "python3"
  },
  "language_info": {
   "codemirror_mode": {
    "name": "ipython",
    "version": 3
   },
   "file_extension": ".py",
   "mimetype": "text/x-python",
   "name": "python",
   "nbconvert_exporter": "python",
   "pygments_lexer": "ipython3",
   "version": "3.10.7"
  }
 },
 "nbformat": 4,
 "nbformat_minor": 5
}
