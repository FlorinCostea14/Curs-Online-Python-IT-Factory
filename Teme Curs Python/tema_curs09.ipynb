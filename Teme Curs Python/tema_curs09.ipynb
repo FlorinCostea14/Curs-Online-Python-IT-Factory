{
 "cells": [
  {
   "cell_type": "code",
   "execution_count": 5,
   "id": "4fd95b99",
   "metadata": {},
   "outputs": [
    {
     "name": "stdout",
     "output_type": "stream",
     "text": [
      "a) rows to write: [['Eveline', 'math', '9'], ['Andrew', 'physics', '6'], ['Celine', 'music', '10'], ['Matthew', 'math', '7'], ['Celine', 'english', '10'], ['Matthew', 'english', '10'], ['Celine', 'chemistry', '6']]\n"
     ]
    }
   ],
   "source": [
    "# 1.Given the multi-line string student_grades:\n",
    "#  a). Using the below data, create your student_grades.csv from student_grades string.\n",
    "#  b). List the contents of the file as a list of dicts, a row being a dict of form:\n",
    "#  {\"student_name\": <name_of_student>, \"subject\": <name_of_subject>, \"grade\": <grade>}\n",
    "#  c). List the student that has the most grades and how many it has   # => Celine, 3  \n",
    "# poate fi si un dict {\"student\": \"Celine\", \"no_of_grades\": 3} sau {\"Celine\": 3} sau (\"Celine\", 3), \"Student with most grades..\"\n",
    "\n",
    "# student_grades =\"\"\"\n",
    "# Eveline,math,9\n",
    "# Andrew,physics,6\n",
    "# Celine,music,10\n",
    "# Matthew,math,7\n",
    "# Celine,english,10\n",
    "# Matthew,english,10\n",
    "# Celine,chemistry,6\n",
    "# \"\"\"\n",
    "\n",
    "# a) \n",
    "student_grades = '''\n",
    "Eveline,math,9\n",
    "Andrew,physics,6\n",
    "Celine,music,10\n",
    "Matthew,math,7\n",
    "Celine,english,10\n",
    "Matthew,english,10\n",
    "Celine,chemistry,6\n",
    "'''\n",
    "import csv\n",
    "rows_as_strings = student_grades.strip('\\n').split('\\n')\n",
    "rows = []\n",
    "for row in rows_as_strings:\n",
    "    rows.append(row.split(','))\n",
    "print(f'a) rows to write: {rows}')\n",
    "with open('student_grades.csv', 'w', newline = '') as f:\n",
    "    writer = csv.writer(f)\n",
    "    writer.writerows(rows)"
   ]
  },
  {
   "cell_type": "code",
   "execution_count": 9,
   "id": "9f614121",
   "metadata": {},
   "outputs": [
    {
     "name": "stdout",
     "output_type": "stream",
     "text": [
      "[{'student_name': 'Eveline', 'subject': 'math', 'grade': '9'}, {'student_name': 'Andrew', 'subject': 'physics', 'grade': '6'}, {'student_name': 'Celine', 'subject': 'music', 'grade': '10'}, {'student_name': 'Matthew', 'subject': 'math', 'grade': '7'}, {'student_name': 'Celine', 'subject': 'english', 'grade': '10'}, {'student_name': 'Matthew', 'subject': 'english', 'grade': '10'}, {'student_name': 'Celine', 'subject': 'chemistry', 'grade': '6'}]\n"
     ]
    }
   ],
   "source": [
    "# b)\n",
    "students_list = []\n",
    "with open('student_grades.csv', 'r', newline = '') as f:\n",
    "    reader = csv.DictReader(f, fieldnames = ['student_name', 'subject', 'grade'])\n",
    "    for row in reader:\n",
    "        students_list.append(row)\n",
    "print(students_list)\n"
   ]
  },
  {
   "cell_type": "code",
   "execution_count": 11,
   "id": "d5e42ecc",
   "metadata": {},
   "outputs": [
    {
     "ename": "FileNotFoundError",
     "evalue": "[Errno 2] No such file or directory: 'people.json'",
     "output_type": "error",
     "traceback": [
      "\u001b[1;31m---------------------------------------------------------------------------\u001b[0m",
      "\u001b[1;31mFileNotFoundError\u001b[0m                         Traceback (most recent call last)",
      "Cell \u001b[1;32mIn [11], line 9\u001b[0m\n\u001b[0;32m      5\u001b[0m         people_dict \u001b[38;5;241m=\u001b[39m json\u001b[38;5;241m.\u001b[39mload(f)\n\u001b[0;32m      7\u001b[0m     \u001b[38;5;28;01mreturn\u001b[39;00m people_dict[\u001b[38;5;124m'\u001b[39m\u001b[38;5;124mpeople\u001b[39m\u001b[38;5;124m'\u001b[39m][person_id]\n\u001b[1;32m----> 9\u001b[0m \u001b[38;5;28mprint\u001b[39m(\u001b[43mshow_details_id\u001b[49m\u001b[43m(\u001b[49m\u001b[38;5;124;43m'\u001b[39;49m\u001b[38;5;124;43maeec8c5e-f513-4dfd-8435-1d49eb90877c\u001b[39;49m\u001b[38;5;124;43m'\u001b[39;49m\u001b[43m)\u001b[49m)\n",
      "Cell \u001b[1;32mIn [11], line 4\u001b[0m, in \u001b[0;36mshow_details_id\u001b[1;34m(person_id)\u001b[0m\n\u001b[0;32m      3\u001b[0m \u001b[38;5;28;01mdef\u001b[39;00m \u001b[38;5;21mshow_details_id\u001b[39m(person_id):\n\u001b[1;32m----> 4\u001b[0m     \u001b[38;5;28;01mwith\u001b[39;00m \u001b[38;5;28;43mopen\u001b[39;49m\u001b[43m(\u001b[49m\u001b[38;5;124;43m'\u001b[39;49m\u001b[38;5;124;43mpeople.json\u001b[39;49m\u001b[38;5;124;43m'\u001b[39;49m\u001b[43m,\u001b[49m\u001b[43m \u001b[49m\u001b[38;5;124;43m'\u001b[39;49m\u001b[38;5;124;43mr\u001b[39;49m\u001b[38;5;124;43m'\u001b[39;49m\u001b[43m)\u001b[49m \u001b[38;5;28;01mas\u001b[39;00m f:\n\u001b[0;32m      5\u001b[0m         people_dict \u001b[38;5;241m=\u001b[39m json\u001b[38;5;241m.\u001b[39mload(f)\n\u001b[0;32m      7\u001b[0m     \u001b[38;5;28;01mreturn\u001b[39;00m people_dict[\u001b[38;5;124m'\u001b[39m\u001b[38;5;124mpeople\u001b[39m\u001b[38;5;124m'\u001b[39m][person_id]\n",
      "\u001b[1;31mFileNotFoundError\u001b[0m: [Errno 2] No such file or directory: 'people.json'"
     ]
    }
   ],
   "source": [
    "# 2.\n",
    "import json\n",
    "def show_details_id(person_id):\n",
    "    with open('people.json', 'r') as f:\n",
    "        people_dict = json.load(f)\n",
    "        \n",
    "    return people_dict['people'][person_id]\n",
    "\n",
    "print(show_details_id('aeec8c5e-f513-4dfd-8435-1d49eb90877c'))\n"
   ]
  },
  {
   "cell_type": "code",
   "execution_count": null,
   "id": "b7221942",
   "metadata": {},
   "outputs": [],
   "source": []
  }
 ],
 "metadata": {
  "kernelspec": {
   "display_name": "Python 3 (ipykernel)",
   "language": "python",
   "name": "python3"
  },
  "language_info": {
   "codemirror_mode": {
    "name": "ipython",
    "version": 3
   },
   "file_extension": ".py",
   "mimetype": "text/x-python",
   "name": "python",
   "nbconvert_exporter": "python",
   "pygments_lexer": "ipython3",
   "version": "3.10.7"
  }
 },
 "nbformat": 4,
 "nbformat_minor": 5
}
