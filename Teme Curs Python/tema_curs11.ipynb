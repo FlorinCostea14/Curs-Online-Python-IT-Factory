{
 "cells": [
  {
   "cell_type": "code",
   "execution_count": 5,
   "id": "a0c03f7d",
   "metadata": {},
   "outputs": [
    {
     "name": "stdout",
     "output_type": "stream",
     "text": [
      "TV price is: 1000\n",
      "Price with added tax is 1190.0.]\n",
      "1190.0\n",
      "Laptop price is: 2400\n",
      "Price with added tax is 2856.0.]\n",
      "2856.0\n",
      "Pretul TV-ului este de 1000\n",
      "Price with added tax is 1190.0.]\n",
      "Pretul cu discount este de 952.0\n",
      "Pretul laptop-ului este de 2400\n",
      "Price with added tax is 2856.0.]\n",
      "Pretul cu discount este de 2427.6\n"
     ]
    },
    {
     "data": {
      "text/plain": [
       "2427.6"
      ]
     },
     "execution_count": 5,
     "metadata": {},
     "output_type": "execute_result"
    }
   ],
   "source": [
    "# 2. Fiind date urmatoarele functii, scrieti un decorator tva_decorator pt cele 2 functii care sa returneze pretul produsului cu TVA adaugat (tva = 19%).\n",
    "\n",
    "def tva_decorator(original_function):\n",
    "    def wrapper_function(*args):\n",
    "        initial_price = original_function(*args)\n",
    "        price_after_tax_added = 1.19 * initial_price\n",
    "        print(f'Price with added tax is {price_after_tax_added}.]')\n",
    "        return price_after_tax_added\n",
    "    return wrapper_function\n",
    "\n",
    "@tva_decorator\n",
    "def get_tv_price(price):\n",
    "    print(f'TV price is: {price}')\n",
    "    return price\n",
    "@tva_decorator\n",
    "def get_laptop_price(price):\n",
    "    print(f'Laptop price is: {price}')\n",
    "    return price\n",
    "\n",
    "print(get_tv_price(1000))\n",
    "print(get_laptop_price(2400))\n",
    "\n",
    "# 3. a) Incercati sa mai adaugati un decorator (2 in total; hint: trebuie cautat pe google cum putem adauga 2 decoratori la o singura functie) functiilor get_tv_price si get_laptop_price pentru a oferi un discount\n",
    "\n",
    "def discount_decorator(original_function):\n",
    "    def wrapper_function(price, discount):\n",
    "        initial_price = original_function(price, discount)\n",
    "        pret_dupa_discount = initial_price - discount/100 * initial_price\n",
    "        print(f'Pretul cu discount este de {pret_dupa_discount}')\n",
    "        return pret_dupa_discount\n",
    "    return wrapper_function\n",
    "\n",
    "@discount_decorator\n",
    "@tva_decorator\n",
    "def get_tv_price(price, discount):\n",
    "    print(f'Pretul TV-ului este de {price}')\n",
    "    return price\n",
    "\n",
    "@discount_decorator\n",
    "@tva_decorator\n",
    "def get_laptop_price(price, discount):\n",
    "    print(f'Pretul laptop-ului este de {price}')\n",
    "    return price\n",
    "\n",
    "get_tv_price(1000, 20)\n",
    "get_laptop_price(2400, 15)\n"
   ]
  },
  {
   "cell_type": "code",
   "execution_count": 9,
   "id": "eef54619",
   "metadata": {},
   "outputs": [
    {
     "ename": "TypeError",
     "evalue": "'NoneType' object is not callable",
     "output_type": "error",
     "traceback": [
      "\u001b[1;31m---------------------------------------------------------------------------\u001b[0m",
      "\u001b[1;31mTypeError\u001b[0m                                 Traceback (most recent call last)",
      "Cell \u001b[1;32mIn [9], line 22\u001b[0m\n\u001b[0;32m     18\u001b[0m     \u001b[38;5;28mprint\u001b[39m(\u001b[38;5;124mf\u001b[39m\u001b[38;5;124m'\u001b[39m\u001b[38;5;124mTV price with 10% discount is \u001b[39m\u001b[38;5;132;01m{\u001b[39;00mprice\u001b[38;5;132;01m}\u001b[39;00m\u001b[38;5;124m'\u001b[39m)\n\u001b[0;32m     19\u001b[0m     \u001b[38;5;28;01mreturn\u001b[39;00m price\n\u001b[1;32m---> 22\u001b[0m \u001b[38;5;28mprint\u001b[39m(\u001b[43mget_tv_price\u001b[49m\u001b[43m(\u001b[49m\u001b[38;5;241;43m1500\u001b[39;49m\u001b[43m)\u001b[49m)\n",
      "Cell \u001b[1;32mIn [5], line 5\u001b[0m, in \u001b[0;36mtva_decorator.<locals>.wrapper_function\u001b[1;34m(*args)\u001b[0m\n\u001b[0;32m      4\u001b[0m \u001b[38;5;28;01mdef\u001b[39;00m \u001b[38;5;21mwrapper_function\u001b[39m(\u001b[38;5;241m*\u001b[39margs):\n\u001b[1;32m----> 5\u001b[0m     initial_price \u001b[38;5;241m=\u001b[39m \u001b[43moriginal_function\u001b[49m\u001b[43m(\u001b[49m\u001b[38;5;241;43m*\u001b[39;49m\u001b[43margs\u001b[49m\u001b[43m)\u001b[49m\n\u001b[0;32m      6\u001b[0m     price_after_tax_added \u001b[38;5;241m=\u001b[39m \u001b[38;5;241m1.19\u001b[39m \u001b[38;5;241m*\u001b[39m initial_price\n\u001b[0;32m      7\u001b[0m     \u001b[38;5;28mprint\u001b[39m(\u001b[38;5;124mf\u001b[39m\u001b[38;5;124m'\u001b[39m\u001b[38;5;124mPrice with added tax is \u001b[39m\u001b[38;5;132;01m{\u001b[39;00mprice_after_tax_added\u001b[38;5;132;01m}\u001b[39;00m\u001b[38;5;124m.]\u001b[39m\u001b[38;5;124m'\u001b[39m)\n",
      "\u001b[1;31mTypeError\u001b[0m: 'NoneType' object is not callable"
     ]
    }
   ],
   "source": [
    "# b) cu discount ca default argument al functiei\n",
    "\n",
    "def discount_decorator(original_function):\n",
    "    def wrapper_function(price, *args):\n",
    "        if args:\n",
    "            discount = args[10]\n",
    "        else:\n",
    "            discount = original_function.__defaults__[0]\n",
    "            initial_price = original_function(price)\n",
    "            pret_dupa_discount = initial_price - discount/100 * initial_price\n",
    "            print(f'Price with discount is {pret_dupa_discount}')\n",
    "            return pret_dupa_discount\n",
    "        return wrapper_function\n",
    "\n",
    "@tva_decorator\n",
    "@discount_decorator\n",
    "def get_tv_price(price, discount=10):\n",
    "    print(f'TV price with 10% discount is {price}')\n",
    "    return price\n",
    "\n",
    "print(get_tv_price(1500, 40))\n",
    "print(get_tv_price(1500))"
   ]
  },
  {
   "cell_type": "code",
   "execution_count": 16,
   "id": "c0e1b9bb",
   "metadata": {},
   "outputs": [
    {
     "name": "stdout",
     "output_type": "stream",
     "text": [
      "Latimea dreptunghiuliu este de 3, lungimea dreptunghiului este de 7\n",
      "Aria dreptunghiului este 21\n",
      "Latimea dreptunghiuliu este de 5, lungimea dreptunghiului este de 8\n",
      "Aria dreptunghiului este de 40\n"
     ]
    }
   ],
   "source": [
    "# 1.1. a) Creati un context manager care genereaza in mod aleatoriu o lungime si o latime pentru un dreptunghi. Calculati si printati aria dreptunghiului in interiorul context managerului.\n",
    "\n",
    "import random\n",
    "\n",
    "class RandomRectangle():\n",
    "    def __enter__(self):\n",
    "        self.latime = random.randrange(1, 10)\n",
    "        self.lungime = random.randrange(1, 10)\n",
    "        print(f'Latimea dreptunghiuliu este de {self.latime}, lungimea dreptunghiului este de {self.lungime}')\n",
    "        return self\n",
    "    def aria(self):\n",
    "        return self.latime * self.lungime\n",
    "    def __exit__(self, type, value, traceback):\n",
    "        pass\n",
    "with RandomRectangle() as dreptunghiul_meu:\n",
    "    print(f'Aria dreptunghiului este {dreptunghiul_meu.aria()}')\n",
    "    \n",
    "# b) valori predefinite\n",
    "\n",
    "class RandomRectangle():\n",
    "    def __init__(self, latime=None, lungime=None):\n",
    "        self.latime = latime\n",
    "        self.lungime = lungime\n",
    "    def __enter__(self):\n",
    "        if self.latime is None:\n",
    "            self.latime = self.randrange(1, 10)\n",
    "        if self.lungime is None:\n",
    "            self.lungime = self.randrange(1, 10)\n",
    "        print(f'Latimea dreptunghiuliu este de {self.latime}, lungimea dreptunghiului este de {self.lungime}')\n",
    "        return self\n",
    "    def aria(self):\n",
    "        return self.latime * self.lungime\n",
    "    def __exit__(self, type, value, traceback):\n",
    "        pass\n",
    "    \n",
    "with RandomRectangle(5, 8) as dreptunghiul_meu:\n",
    "    print(f'Aria dreptunghiului este de {dreptunghiul_meu.aria()}')"
   ]
  },
  {
   "cell_type": "code",
   "execution_count": null,
   "id": "acad70f8",
   "metadata": {},
   "outputs": [],
   "source": []
  }
 ],
 "metadata": {
  "kernelspec": {
   "display_name": "Python 3 (ipykernel)",
   "language": "python",
   "name": "python3"
  },
  "language_info": {
   "codemirror_mode": {
    "name": "ipython",
    "version": 3
   },
   "file_extension": ".py",
   "mimetype": "text/x-python",
   "name": "python",
   "nbconvert_exporter": "python",
   "pygments_lexer": "ipython3",
   "version": "3.10.7"
  }
 },
 "nbformat": 4,
 "nbformat_minor": 5
}
