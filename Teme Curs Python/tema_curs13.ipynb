{
 "cells": [
  {
   "cell_type": "code",
   "execution_count": 4,
   "id": "e38b8228",
   "metadata": {},
   "outputs": [
    {
     "ename": "NameError",
     "evalue": "name 'requests' is not defined",
     "output_type": "error",
     "traceback": [
      "\u001b[1;31m---------------------------------------------------------------------------\u001b[0m",
      "\u001b[1;31mNameError\u001b[0m                                 Traceback (most recent call last)",
      "Cell \u001b[1;32mIn [4], line 15\u001b[0m\n\u001b[0;32m      1\u001b[0m \u001b[38;5;66;03m#1. Implementati API-urile user ramas neimplementate in aplicatia flask streaming_services_app (pe care o gasiti in directorul NOTEBOOK-URI) si anume:\u001b[39;00m\n\u001b[0;32m      2\u001b[0m \u001b[38;5;66;03m#add_user (pentru a asigna id-uri random va puteti folosi de modulul uuid)\u001b[39;00m\n\u001b[0;32m      3\u001b[0m \u001b[38;5;66;03m#update_user\u001b[39;00m\n\u001b[1;32m   (...)\u001b[0m\n\u001b[0;32m      6\u001b[0m \n\u001b[0;32m      7\u001b[0m \u001b[38;5;66;03m# add_user\u001b[39;00m\n\u001b[0;32m      9\u001b[0m add_user \u001b[38;5;241m=\u001b[39m {\u001b[38;5;124m\"\u001b[39m\u001b[38;5;124mid\u001b[39m\u001b[38;5;124m\"\u001b[39m: \u001b[38;5;124m\"\u001b[39m\u001b[38;5;124muid3\u001b[39m\u001b[38;5;124m\"\u001b[39m,\n\u001b[0;32m     10\u001b[0m             \u001b[38;5;124m\"\u001b[39m\u001b[38;5;124musername\u001b[39m\u001b[38;5;124m\"\u001b[39m: \u001b[38;5;124m\"\u001b[39m\u001b[38;5;124mthird\u001b[39m\u001b[38;5;124m\"\u001b[39m,\n\u001b[0;32m     11\u001b[0m             \u001b[38;5;124m\"\u001b[39m\u001b[38;5;124mpassword\u001b[39m\u001b[38;5;124m\"\u001b[39m: \u001b[38;5;124m\"\u001b[39m\u001b[38;5;124m333\u001b[39m\u001b[38;5;124m\"\u001b[39m,\n\u001b[0;32m     12\u001b[0m             \u001b[38;5;124m\"\u001b[39m\u001b[38;5;124msubscription_type\u001b[39m\u001b[38;5;124m\"\u001b[39m: \u001b[38;5;124m\"\u001b[39m\u001b[38;5;124mindividual\u001b[39m\u001b[38;5;124m\"\u001b[39m,\n\u001b[0;32m     13\u001b[0m             \u001b[38;5;124m\"\u001b[39m\u001b[38;5;124memail\u001b[39m\u001b[38;5;124m\"\u001b[39m: \u001b[38;5;124m\"\u001b[39m\u001b[38;5;124mthird@gmail.ro\u001b[39m\u001b[38;5;124m\"\u001b[39m,\n\u001b[0;32m     14\u001b[0m             \u001b[38;5;124m\"\u001b[39m\u001b[38;5;124mis_logged\u001b[39m\u001b[38;5;124m\"\u001b[39m: \u001b[38;5;28;01mFalse\u001b[39;00m}\n\u001b[1;32m---> 15\u001b[0m r \u001b[38;5;241m=\u001b[39m \u001b[43mrequests\u001b[49m\u001b[38;5;241m.\u001b[39mput(url\u001b[38;5;241m=\u001b[39m\u001b[38;5;124m'\u001b[39m\u001b[38;5;124mhttp://localhost:5000/users\u001b[39m\u001b[38;5;124m'\u001b[39m, json\u001b[38;5;241m=\u001b[39madd_user)\n\u001b[0;32m     16\u001b[0m r\u001b[38;5;241m.\u001b[39mjson()\n\u001b[0;32m     19\u001b[0m \u001b[38;5;66;03m# update_user\u001b[39;00m\n",
      "\u001b[1;31mNameError\u001b[0m: name 'requests' is not defined"
     ]
    }
   ],
   "source": [
    "# 1. Implementati API-urile user ramas neimplementate in aplicatia flask streaming_services_app (pe care o gasiti in directorul NOTEBOOK-URI) si anume:\n",
    "#add_user (pentru a asigna id-uri random va puteti folosi de modulul uuid)\n",
    "#update_user\n",
    "#remove_user\n",
    "#\tAdaugati functia API cat si functia CRUD aferenta.\n",
    "\n",
    "# add_user\n",
    "\n",
    "add_user = {\"id\": \"uid3\",\n",
    "            \"username\": \"third\",\n",
    "            \"password\": \"333\",\n",
    "            \"subscription_type\": \"individual\",\n",
    "            \"email\": \"third@gmail.ro\",\n",
    "            \"is_logged\": False}\n",
    "r = requests.put(url='http://localhost:5000/users/new_user', json=add_user)\n",
    "r.json()\n",
    "\n",
    "\n",
    "# update_user\n",
    "update_data = {'username': 'al_trilea_user',\n",
    "               'password': 'trei333'}\n",
    "r = requests.patch(url='http://localhost:5000/users/update_user/uid3', json=update_data)\n",
    "\n",
    "# remove_user\n",
    "\n",
    "r = requests.delete(url='http://localhost:5000/users/remove_user/uid3')\n",
    "\n",
    "\n",
    "\n"
   ]
  },
  {
   "cell_type": "code",
   "execution_count": null,
   "id": "26206123",
   "metadata": {},
   "outputs": [],
   "source": [
    "# 2. Adaugati inca 3 API:\n",
    "#login_user, prin care sa actualizam in db starea de is_logged a unui user\n",
    "#logout_user\n",
    "#current_user, prin care sa afisam userul logat\n",
    "\n",
    "# login_user\n",
    "\n",
    "login_data = {'username': 'popescu_mihai', 'password': 'parola'}\n",
    "r = requests.post{url='http://localhost:5000/users/login/uid1', json=login_data}\n"
   ]
  },
  {
   "cell_type": "code",
   "execution_count": null,
   "id": "9eed5d06",
   "metadata": {},
   "outputs": [],
   "source": [
    "# 4. Implementati API-urile de add, update, delete, get_all, get_by_id si pentru shows.\n",
    "\n",
    "\"shows\": [\n",
    "        {\n",
    "            \"id\": \"1231231\",\n",
    "            \"title\": \"Wednesday\",\n",
    "            \"type\": \"tv_series\",\n",
    "            \"providers_id\": [\"puid1\"]\n",
    "        },\n",
    "        {\n",
    "            \"id\": \"23411\",\n",
    "            \"title\": \"Mr. Robot\",\n",
    "            \"type\": \"tv_series\",\n",
    "            \"providers_id\": [\"puid1\"]\n",
    "        },\n",
    "        {\n",
    "            \"id\": \"34125\",\n",
    "            \"title\": \"Interstellar\",\n",
    "            \"type\": \"movie\",\n",
    "            \"providers_id\": [\"puid1\", \"puid2\"]\n",
    "\n",
    "# add\n",
    "new_show_data = {'id': '45789',\n",
    "                'title': 'Suits',\n",
    "                'type': 'tv_series',\n",
    "                'providers_id': 'puid1'}\n",
    "r = requests.put(url='http://localhost:5000/shows/new_show', json=new_show_data)\n",
    "            \n",
    "# update\n",
    "\n",
    "update_data = {'title': 'Outlander'}\n",
    "r = requests.patch(url='http://localhost:5000/shows/update_show/45789', json=update_data)\n",
    "\n",
    "# delete\n",
    "\n",
    "r = requests.delete(url='http://localhost:5000/shows/delete_show/23411')\n",
    "\n",
    "# get_all\n",
    "\n",
    "r = requests.get(url='http://localhost:5000/shows')\n",
    "r.json()\n",
    "\n",
    "#get_by_id\n",
    "\n",
    "r = requests.get(url='http://localhost:5000/shows/45789')\n",
    "r.json()"
   ]
  }
 ],
 "metadata": {
  "kernelspec": {
   "display_name": "Python 3 (ipykernel)",
   "language": "python",
   "name": "python3"
  },
  "language_info": {
   "codemirror_mode": {
    "name": "ipython",
    "version": 3
   },
   "file_extension": ".py",
   "mimetype": "text/x-python",
   "name": "python",
   "nbconvert_exporter": "python",
   "pygments_lexer": "ipython3",
   "version": "3.10.7"
  }
 },
 "nbformat": 4,
 "nbformat_minor": 5
}
