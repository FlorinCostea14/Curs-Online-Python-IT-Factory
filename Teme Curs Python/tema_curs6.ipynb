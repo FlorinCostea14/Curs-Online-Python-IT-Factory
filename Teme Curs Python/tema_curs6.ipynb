{
 "cells": [
  {
   "cell_type": "code",
   "execution_count": 33,
   "id": "054438f2",
   "metadata": {},
   "outputs": [
    {
     "name": "stdout",
     "output_type": "stream",
     "text": [
      "Cercul va avea raza 3 si culoarea green\n",
      "Cercul va avea raza 6 si culoarea visiniu\n",
      "28.274333882308138\n",
      "113.09733552923255\n",
      "6\n",
      "12\n",
      "18.84955592153876\n",
      "37.69911184307752\n"
     ]
    }
   ],
   "source": [
    "# 1.\n",
    "from math import pi\n",
    "\n",
    "class Cerc:\n",
    "    def __init__(self, raza, culoare):\n",
    "        self.raza = raza\n",
    "        self.culoare = culoare\n",
    "    def describe_cerc(self):\n",
    "        print(f'Cercul va avea raza {self.raza} si culoarea {self.culoare}')\n",
    "    def aria(self):\n",
    "        return pi * self.raza**2\n",
    "    def diametru(self):\n",
    "        return 2 * self.raza\n",
    "    def circumferinta(self):\n",
    "        return 2 * pi * self.raza\n",
    "              \n",
    "c1 = Cerc(3, 'green')\n",
    "c2 = Cerc (6, 'visiniu')\n",
    "              \n",
    "c1.describe_cerc()\n",
    "c2.describe_cerc()\n",
    "\n",
    "print(c1.aria())\n",
    "print(c2.aria())\n",
    "\n",
    "print(c1.diametru())\n",
    "print(c2.diametru())\n",
    "\n",
    "print(c1.circumferinta())\n",
    "print(c2.circumferinta())\n",
    "\n",
    "        "
   ]
  },
  {
   "cell_type": "code",
   "execution_count": 32,
   "id": "5981219d",
   "metadata": {},
   "outputs": [
    {
     "name": "stdout",
     "output_type": "stream",
     "text": [
      "Dreptunghiul va avea lungimea de 4, latimea de 6 si culoarea albastru\n",
      "24\n",
      "20\n",
      "verde\n",
      "Dreptunghiul va avea lungimea de 5, latimea de 9 si culoarea alb\n",
      "45\n",
      "28\n",
      "mov\n"
     ]
    }
   ],
   "source": [
    "# 2.\n",
    "class Dreptunghi:\n",
    "    def __init__(self, lungime, latime, culoare):\n",
    "        self.lungime = lungime\n",
    "        self.latime = latime\n",
    "        self.culoare = culoare\n",
    "    def descrie_dreptunghi(self):\n",
    "        print(f'Dreptunghiul va avea lungimea de {self.lungime}, latimea de {self.latime} si culoarea {self.culoare}')\n",
    "    def aria_dreptunghi(self):\n",
    "        return self.lungime * self.latime\n",
    "    def perimetru_dreptunghi(self):\n",
    "        return 2 * (self.lungime + self.latime)\n",
    "    def culoare_noua(self, new_color):\n",
    "        self.culoare = new_color\n",
    "\n",
    "d1 = Dreptunghi(4, 6, 'albastru')\n",
    "d2 = Dreptunghi(5, 9, 'alb')\n",
    "\n",
    "d1.descrie_dreptunghi()\n",
    "print(d1.aria_dreptunghi())\n",
    "print(d1.perimetru_dreptunghi())\n",
    "d1.culoare_noua('verde')\n",
    "print(d1.culoare)\n",
    "\n",
    "d2.descrie_dreptunghi()\n",
    "print(d2.aria_dreptunghi())\n",
    "print(d2.perimetru_dreptunghi())\n",
    "d2.culoare_noua('mov')\n",
    "print(d2.culoare)"
   ]
  },
  {
   "cell_type": "code",
   "execution_count": 31,
   "id": "08897de6",
   "metadata": {},
   "outputs": [
    {
     "name": "stdout",
     "output_type": "stream",
     "text": [
      "Angajatul Ionescu George are salariul de 5000\n",
      "Numele complet al angajatului este Ionescu George\n",
      "Salariul lunar este de 5000\n",
      "Salariul anual este de 60000\n",
      "Angajatul Popescu Mihai are salariul de 4500\n",
      "Numele complet al angajatului este Popescu Mihai\n",
      "Salariul lunar este de 4500\n",
      "Salariul anual este de 54000\n"
     ]
    }
   ],
   "source": [
    "# 3.\n",
    "class Angajat:\n",
    "    def __init__(self, nume, prenume, salariu):\n",
    "        self.nume = nume\n",
    "        self.prenume = prenume\n",
    "        self.salariu = salariu\n",
    "    def descrie_angajat(self):\n",
    "        print(f'Angajatul {self.nume} {self.prenume} are salariul de {self.salariu}')\n",
    "    def nume_complet(self):\n",
    "        print(f'Numele complet al angajatului este {self.nume} {self.prenume}')\n",
    "    def salariu_lunar(self):\n",
    "        print(f'Salariul lunar este de {self.salariu}')\n",
    "    def salariu_anual(self):\n",
    "        print(f'Salariul anual este de {self.salariu*12}')\n",
    "\n",
    "a1 = Angajat('Ionescu', 'George', 5000)\n",
    "a2 = Angajat('Popescu', 'Mihai', 4500)\n",
    "\n",
    "a1.descrie_angajat()\n",
    "a1.nume_complet()\n",
    "a1.salariu_lunar()\n",
    "a1.salariu_anual()\n",
    "a2.descrie_angajat()\n",
    "a2.nume_complet()\n",
    "a2.salariu_lunar()\n",
    "a2.salariu_anual()\n",
    "    "
   ]
  },
  {
   "cell_type": "code",
   "execution_count": 1,
   "id": "e7ce9c26",
   "metadata": {},
   "outputs": [
    {
     "name": "stdout",
     "output_type": "stream",
     "text": [
      "Titularul Popescu Adrian are in contul RO1234567 suma de 1000000 lei\n",
      "100 a fost debitata din contul tau\n",
      "Titularul Popescu Adrian are in contul RO1234567 suma de 999900 lei\n"
     ]
    },
    {
     "ename": "TypeError",
     "evalue": "Cont.creditare_cont() takes 1 positional argument but 2 were given",
     "output_type": "error",
     "traceback": [
      "\u001b[1;31m---------------------------------------------------------------------------\u001b[0m",
      "\u001b[1;31mTypeError\u001b[0m                                 Traceback (most recent call last)",
      "Cell \u001b[1;32mIn [1], line 25\u001b[0m\n\u001b[0;32m     23\u001b[0m c1\u001b[38;5;241m.\u001b[39mdebitare_cont(\u001b[38;5;241m100\u001b[39m)\n\u001b[0;32m     24\u001b[0m c1\u001b[38;5;241m.\u001b[39mafisare_sold()\n\u001b[1;32m---> 25\u001b[0m \u001b[43mc1\u001b[49m\u001b[38;5;241;43m.\u001b[39;49m\u001b[43mcreditare_cont\u001b[49m\u001b[43m(\u001b[49m\u001b[38;5;241;43m1_000_000\u001b[39;49m\u001b[43m)\u001b[49m\n\u001b[0;32m     27\u001b[0m c2\u001b[38;5;241m.\u001b[39mafisare_sold()\n\u001b[0;32m     28\u001b[0m c2\u001b[38;5;241m.\u001b[39mdebitare_cont(\u001b[38;5;241m100\u001b[39m)\n",
      "\u001b[1;31mTypeError\u001b[0m: Cont.creditare_cont() takes 1 positional argument but 2 were given"
     ]
    }
   ],
   "source": [
    "# 4.\n",
    "class Cont:\n",
    "    def __init__(self, iban, titular_cont, sold):\n",
    "        self.iban = iban\n",
    "        self.titular_cont = titular_cont\n",
    "        self.sold = sold\n",
    "    def afisare_sold(self):\n",
    "        print(f'Titularul {self.titular_cont} are in contul {self.iban} suma de {self.sold} lei')\n",
    "    def debitare_cont(self, suma):\n",
    "        if suma > self.sold:\n",
    "            print(f'Fonduri insuficiente')\n",
    "        else:\n",
    "            self.sold -= suma\n",
    "            print(f'{suma} a fost debitata din contul tau')\n",
    "    def creditare_cont(self):\n",
    "        self.sold += suma\n",
    "        print(f'{suma} a fost creditata in contul tau')\n",
    "\n",
    "c1 = Cont('RO1234567', 'Popescu Adrian', 1_000_000)\n",
    "c2 = Cont('RO890', 'Draghici Viorel', 600_000)\n",
    "\n",
    "c1.afisare_sold()\n",
    "c1.debitare_cont(100)\n",
    "c1.afisare_sold()\n",
    "c1.creditare_cont(1_000_000)\n",
    "\n",
    "c2.afisare_sold()\n",
    "c2.debitare_cont(100)\n",
    "c2.afisare_sold()\n",
    "c2.creditare_cont(600_000)\n",
    "c2.afisare_sold()\n"
   ]
  },
  {
   "cell_type": "code",
   "execution_count": 7,
   "id": "3fabac4d",
   "metadata": {},
   "outputs": [
    {
     "name": "stdout",
     "output_type": "stream",
     "text": [
      "Date: 2022-10-28\n",
      "Nume Produs|Cantitate|Pret|Total\n",
      "Telefonie mobila|6|35|210\n",
      "Date: 2022-10-28\n",
      "Nume Produs|Cantitate|Pret|Total\n",
      "Curent|9|400|3600\n"
     ]
    }
   ],
   "source": [
    "# 5.\n",
    "from datetime import date\n",
    "class Factura:\n",
    "    serie = 'APA'\n",
    "    def __init__(self, numar, nume_produs, cantitate, pret_buc):\n",
    "        self.numar = numar\n",
    "        self.nume_produs = nume_produs\n",
    "        self.cantitate = cantitate\n",
    "        self.pret_buc = pret_buc\n",
    "    def schimba_cantitatea(self, cantitatea_noua):\n",
    "        self.cantitate = cantitatea_noua\n",
    "    def schimba_pretul(self, pret_nou):\n",
    "        self.pret_buc = pret_nou\n",
    "    def schimba_nume_produs(self, nume_produs_nou):\n",
    "        self.nume_produs = nume_produs_nou\n",
    "    def genereaza_factura(self):\n",
    "        print(f'Date: {date.today()}\\nNume Produs|Cantitate|Pret|Total\\n{self.nume_produs}|{self.cantitate}|{self.pret_buc}|{self.cantitate*self.pret_buc}')\n",
    "    \n",
    "f1 = Factura(1, 'Telefonie mobila', 6, 35)\n",
    "f1.genereaza_factura()\n",
    "\n",
    "f2 = Factura(4, 'Curent', 9, 400)\n",
    "f2.genereaza_factura()"
   ]
  },
  {
   "cell_type": "code",
   "execution_count": 30,
   "id": "093b6561",
   "metadata": {},
   "outputs": [
    {
     "name": "stdout",
     "output_type": "stream",
     "text": [
      "Ati achizitionat un Porsche model Macan ce atinge o viteza maxima de 280\n",
      "Si acum are culoarea gri, dar se poate schimba ca extra dotare.\n",
      "Acuma merge cu o viteza de 0km/h. Este inmatriculata? Nu\n",
      "Am vopsit masina dvs in negru\n",
      "Acuma esti la viteza maxima de 140km/h !\n",
      "Acum aveti viteza de 0km/h\n",
      "Culoarea aleasa de dvs nu este in lista de culori, ne pare rau!\n"
     ]
    },
    {
     "ename": "EroareViteza",
     "evalue": "Eroare de viteza, -14km/h < 0",
     "output_type": "error",
     "traceback": [
      "\u001b[1;31m---------------------------------------------------------------------------\u001b[0m",
      "\u001b[1;31mEroareViteza\u001b[0m                              Traceback (most recent call last)",
      "Cell \u001b[1;32mIn [30], line 47\u001b[0m\n\u001b[0;32m     45\u001b[0m m1\u001b[38;5;241m.\u001b[39mfraneaza()\n\u001b[0;32m     46\u001b[0m m1\u001b[38;5;241m.\u001b[39mvopsea(\u001b[38;5;124m'\u001b[39m\u001b[38;5;124mmaro\u001b[39m\u001b[38;5;124m'\u001b[39m)\n\u001b[1;32m---> 47\u001b[0m \u001b[43mm1\u001b[49m\u001b[38;5;241;43m.\u001b[39;49m\u001b[43maccelereaza\u001b[49m\u001b[43m(\u001b[49m\u001b[38;5;241;43m-\u001b[39;49m\u001b[38;5;241;43m14\u001b[39;49m\u001b[43m)\u001b[49m\n",
      "Cell \u001b[1;32mIn [30], line 28\u001b[0m, in \u001b[0;36mMasina.accelereaza\u001b[1;34m(self, viteza_noua)\u001b[0m\n\u001b[0;32m     26\u001b[0m \u001b[38;5;28;01mdef\u001b[39;00m \u001b[38;5;21maccelereaza\u001b[39m(\u001b[38;5;28mself\u001b[39m, viteza_noua):\n\u001b[0;32m     27\u001b[0m     \u001b[38;5;28;01mif\u001b[39;00m viteza_noua \u001b[38;5;241m<\u001b[39m \u001b[38;5;241m0\u001b[39m:\n\u001b[1;32m---> 28\u001b[0m         \u001b[38;5;28;01mraise\u001b[39;00m EroareViteza(\u001b[38;5;124mf\u001b[39m\u001b[38;5;124m'\u001b[39m\u001b[38;5;124mEroare de viteza, \u001b[39m\u001b[38;5;132;01m{\u001b[39;00mviteza_noua\u001b[38;5;132;01m}\u001b[39;00m\u001b[38;5;124mkm/h < 0\u001b[39m\u001b[38;5;124m'\u001b[39m)\n\u001b[0;32m     29\u001b[0m     \u001b[38;5;28;01melse\u001b[39;00m:\n\u001b[0;32m     30\u001b[0m         \u001b[38;5;28;01mif\u001b[39;00m viteza_noua \u001b[38;5;241m>\u001b[39m \u001b[38;5;28mself\u001b[39m\u001b[38;5;241m.\u001b[39mviteza_maxima:\n",
      "\u001b[1;31mEroareViteza\u001b[0m: Eroare de viteza, -14km/h < 0"
     ]
    }
   ],
   "source": [
    "# 6.\n",
    "class EroareViteza(Exception):\n",
    "    pass\n",
    "\n",
    "class Masina:\n",
    "    def __init__(self, model, viteza_maxima):\n",
    "        self.marca = 'Porsche'\n",
    "        self.model = model\n",
    "        self.viteza_maxima = viteza_maxima\n",
    "        self.viteza_actuala = 0\n",
    "        self.culoare = 'gri'\n",
    "        self.culori_disponibile = set(['argintiu', 'alb', 'negru','verse', 'albastru','galben'])\n",
    "        self.inmatriculata = False\n",
    "    def descrie(self):\n",
    "        print(f'''Ati achizitionat un {self.marca} model {self.model} ce atinge o viteza maxima de {self.viteza_maxima}''') \n",
    "        print(f'''Si acum are culoarea {self.culoare}, dar se poate schimba ca extra dotare.''') \n",
    "        print(f'''Acuma merge cu o viteza de {self.viteza_actuala}km/h. Este inmatriculata? {'Da' if self.inmatriculata else 'Nu' }''')\n",
    "    def vopsea(self, culoare_noua):\n",
    "        if culoare_noua in self.culori_disponibile:\n",
    "            self.culoare = culoare_noua\n",
    "            print(f'Am vopsit masina dvs in {self.culoare}')\n",
    "        else:\n",
    "            print(f'Culoarea aleasa de dvs nu este in lista de culori, ne pare rau!')\n",
    "    def inmatriculare(self):\n",
    "        self.inmatriculata = True\n",
    "    def accelereaza(self, viteza_noua):\n",
    "        if viteza_noua < 0:\n",
    "            raise EroareViteza(f'Eroare de viteza, {viteza_noua}km/h < 0')\n",
    "        else:\n",
    "            if viteza_noua > self.viteza_maxima:\n",
    "                self.viteza_actuala = self.viteza_maxima\n",
    "            else:\n",
    "                self.viteza_actuala = viteza_noua\n",
    "                print(f'Acuma esti la viteza maxima de {self.viteza_actuala}km/h !')\n",
    "    def franeaza(self):\n",
    "        self.viteza_actuala = 0\n",
    "        print(f'Acum aveti viteza de {self.viteza_actuala}km/h')\n",
    "        \n",
    "m1 = Masina(model = 'Macan',viteza_maxima = 280)\n",
    "m1.descrie()\n",
    "m1.inmatriculare()\n",
    "m1.vopsea('negru')\n",
    "m1.accelereaza(140)\n",
    "m1.accelereaza(300)\n",
    "m1.franeaza()\n",
    "m1.vopsea('maro')\n",
    "m1.accelereaza(-14)\n",
    "\n",
    "        \n",
    "        "
   ]
  },
  {
   "cell_type": "code",
   "execution_count": 4,
   "id": "e6dd6962",
   "metadata": {},
   "outputs": [
    {
     "name": "stdout",
     "output_type": "stream",
     "text": [
      "[]\n",
      "Task Repeta nu este in todolist. Vrei sa il adaugi? [y/n]: y\n",
      "Adauga o descriere a taskului Repeta: sos carbonara\n"
     ]
    }
   ],
   "source": [
    "# 7.\n",
    "class TodoList:\n",
    "    def __init__(self):\n",
    "        self.todo = {}\n",
    "    def adauga_task(self, nume, descriere):\n",
    "        self.todo[nume] = descriere\n",
    "    def finalizeaza_task(self, nume):\n",
    "        del self.todo[nume]\n",
    "    def afiseaza_todo_list(self):\n",
    "        print(list(self.todo.keys()))\n",
    "    def afiseaza_detalii_suplimentare(self, nume_task):\n",
    "        if nume_task not in self.todo:\n",
    "            to_add = input(f'Task {nume_task} nu este in todolist. Vrei sa il adaugi? [y/n]: ')\n",
    "            if to_add.lower().startswith('y'):\n",
    "                detalii = input(f'Adauga o descriere a taskului {nume_task}: ')\n",
    "                self.todo[nume_task] = detalii\n",
    "            else:\n",
    "                print(f'Ok, la revedere!')\n",
    "        else:\n",
    "            print(f'>Task: {nume_task}\\n>Descriere: {self.todo[nume_task]}')\n",
    "\n",
    "todo_list = TodoList()\n",
    "todo_list.afiseaza_todo_list()\n",
    "todo_list.adauga_task('Paste carbonara', '1. Fierbe apa, 2. Baga pastele, 3. Fierbele 5-8 min, 4. Strecoara pastele si gata')\n",
    "todo_list.afiseaza_detalii_suplimentare('Repeta')\n",
    "        "
   ]
  },
  {
   "cell_type": "code",
   "execution_count": null,
   "id": "951d8500",
   "metadata": {},
   "outputs": [],
   "source": [
    "class Computer:\n",
    "    def get_price(self)"
   ]
  }
 ],
 "metadata": {
  "kernelspec": {
   "display_name": "Python 3 (ipykernel)",
   "language": "python",
   "name": "python3"
  },
  "language_info": {
   "codemirror_mode": {
    "name": "ipython",
    "version": 3
   },
   "file_extension": ".py",
   "mimetype": "text/x-python",
   "name": "python",
   "nbconvert_exporter": "python",
   "pygments_lexer": "ipython3",
   "version": "3.10.7"
  }
 },
 "nbformat": 4,
 "nbformat_minor": 5
}
