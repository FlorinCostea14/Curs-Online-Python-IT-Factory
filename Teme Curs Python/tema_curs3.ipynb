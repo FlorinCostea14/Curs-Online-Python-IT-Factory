{
 "cells": [
  {
   "cell_type": "code",
   "execution_count": 1,
   "id": "41193de2",
   "metadata": {},
   "outputs": [
    {
     "name": "stdout",
     "output_type": "stream",
     "text": [
      "['do', 'si', 'la', 'sol', 'fa', 'mi', 're', 'do']\n",
      "['do', 'si', 'la', 'sol', 'fa', 'mi', 're', 'do']\n"
     ]
    }
   ],
   "source": [
    "# 1.\n",
    "note_muzicale = ['do', 're', 'mi', 'fa', 'sol', 'la', 'si', 'do']\n",
    "# a).\n",
    "note_muzicale\n",
    "# b).\n",
    "note_muzicale[:-9:-1]\n",
    "note_muzicale[::-1]\n",
    "# c).\n",
    "print(note_muzicale[:-9:-1])\n",
    "# d).\n",
    "note_muzicale.reverse()\n",
    "# e).\n",
    "print(note_muzicale)\n"
   ]
  },
  {
   "cell_type": "code",
   "execution_count": 19,
   "id": "5e95b878",
   "metadata": {},
   "outputs": [
    {
     "data": {
      "text/plain": [
       "2"
      ]
     },
     "execution_count": 19,
     "metadata": {},
     "output_type": "execute_result"
    }
   ],
   "source": [
    "# 2.\n",
    "note_muzicale = ['do', 're', 'mi', 'fa', 'sol', 'la', 'si', 'do']\n",
    "note_muzicale.count('do')"
   ]
  },
  {
   "cell_type": "code",
   "execution_count": 22,
   "id": "d5a1d9cb",
   "metadata": {},
   "outputs": [
    {
     "name": "stdout",
     "output_type": "stream",
     "text": [
      "[3, 1, 0, 2, 6, 5, 4]\n",
      "[3, 1, 0, 2, 6, 5, 4]\n"
     ]
    }
   ],
   "source": [
    "# 3.\n",
    "list1 = [3, 1, 0, 2]\n",
    "list2 = [6, 5, 4]\n",
    "\n",
    "# a. concatenare\n",
    "print(list1 + list2)\n",
    "# b. sintaxa extend\n",
    "list1.extend(list2)\n",
    "print(list1)"
   ]
  },
  {
   "cell_type": "code",
   "execution_count": 28,
   "id": "11309dcc",
   "metadata": {},
   "outputs": [
    {
     "name": "stdout",
     "output_type": "stream",
     "text": [
      "[0, 1, 2, 3, 4, 5, 6]\n",
      "[1, 2, 3, 4, 5, 6]\n"
     ]
    }
   ],
   "source": [
    "# 4.\n",
    "list = [3, 1, 0, 2, 6, 5, 4]\n",
    "list.sort()\n",
    "print(list)\n",
    "list.remove(0)\n",
    "print(list)"
   ]
  },
  {
   "cell_type": "code",
   "execution_count": 29,
   "id": "29bbc251",
   "metadata": {},
   "outputs": [
    {
     "name": "stdout",
     "output_type": "stream",
     "text": [
      "Lista nu este goala\n"
     ]
    }
   ],
   "source": [
    "# 5.\n",
    "list = [3, 1, 0, 2, 6, 5, 4]\n",
    "if list == []:\n",
    "    print(f'Lista este goala')\n",
    "else:\n",
    "    print(f'Lista nu este goala')"
   ]
  },
  {
   "cell_type": "code",
   "execution_count": 32,
   "id": "482dc17b",
   "metadata": {},
   "outputs": [
    {
     "name": "stdout",
     "output_type": "stream",
     "text": [
      "[]\n"
     ]
    }
   ],
   "source": [
    "# 6.\n",
    "list = [3, 1, 0, 2, 6, 5, 4]\n",
    "list.clear()\n",
    "print(list)"
   ]
  },
  {
   "cell_type": "code",
   "execution_count": 34,
   "id": "04a89e93",
   "metadata": {},
   "outputs": [
    {
     "name": "stdout",
     "output_type": "stream",
     "text": [
      "[]\n",
      "Lista este goala\n"
     ]
    }
   ],
   "source": [
    "# 7.\n",
    "list = [3, 1, 0, 2, 6, 5, 4]\n",
    "list.clear()\n",
    "print(list)\n",
    "if list == []:\n",
    "    print(f'Lista este goala')\n",
    "else:\n",
    "    print(f'Lista nu este goala')"
   ]
  },
  {
   "cell_type": "code",
   "execution_count": 50,
   "id": "1a413bb0",
   "metadata": {},
   "outputs": [
    {
     "name": "stdout",
     "output_type": "stream",
     "text": [
      "Elevii sunt: dict_keys(['Ana', 'Gigel', 'Dorel'])\n"
     ]
    }
   ],
   "source": [
    "# 8.\n",
    "dict1 = {'Ana' : 8, 'Gigel' : 10, 'Dorel' : 5}\n",
    "dict1.keys()\n",
    "print(f'Elevii sunt:', dict1.keys())"
   ]
  },
  {
   "cell_type": "code",
   "execution_count": 53,
   "id": "4313216b",
   "metadata": {},
   "outputs": [
    {
     "name": "stdout",
     "output_type": "stream",
     "text": [
      "Ana a luat nota: 8\n",
      "Gigel a luat nota: 10\n",
      "Dorel a luat nota: 5\n"
     ]
    }
   ],
   "source": [
    "# 9.\n",
    "dict1 = {'Ana' : 8, 'Gigel' : 10, 'Dorel' : 5}\n",
    "print(f'Ana a luat nota:', dict1.get('Ana'))\n",
    "print(f'Gigel a luat nota:', dict1.get('Gigel'))\n",
    "print(f'Dorel a luat nota:', dict1.get('Dorel'))"
   ]
  },
  {
   "cell_type": "code",
   "execution_count": 59,
   "id": "d19a7671",
   "metadata": {},
   "outputs": [
    {
     "name": "stdout",
     "output_type": "stream",
     "text": [
      "{'Ana': 8, 'Gigel': 10, 'Dorel': 6}\n"
     ]
    }
   ],
   "source": [
    "# 10.\n",
    "dict1 = {'Ana' : 8, 'Gigel' : 10, 'Dorel' : 5}\n",
    "dict1.update({'Dorel': 6})\n",
    "print(dict1)"
   ]
  },
  {
   "cell_type": "code",
   "execution_count": 65,
   "id": "bfce643a",
   "metadata": {},
   "outputs": [
    {
     "name": "stdout",
     "output_type": "stream",
     "text": [
      "{'Ana': 8, 'Gigel': 10}\n",
      "{'Ana': 8, 'Gigel': 10, 'Ionica': 9}\n"
     ]
    }
   ],
   "source": [
    "# 11.\n",
    "dict1 = {'Ana' : 8, 'Gigel' : 10, 'Dorel' : 5}\n",
    "dict1.pop('Dorel')\n",
    "print(dict1)\n",
    "dict1['Ionica'] = 9\n",
    "print(dict1)"
   ]
  },
  {
   "cell_type": "code",
   "execution_count": 67,
   "id": "cb681dab",
   "metadata": {},
   "outputs": [
    {
     "name": "stdout",
     "output_type": "stream",
     "text": [
      "{'joi', 'miercuri', 'vineri', 'duminica', 'marti', 'luni', 'sambata'}\n"
     ]
    }
   ],
   "source": [
    "# 12.\n",
    "zile_sapt = {'luni', 'marti', 'miercuri', 'joi', 'vineri', 'sambata', 'duminica'}\n",
    "weekend = {'sambata', 'duminica'}\n",
    "zile_sapt.add('luni')\n",
    "print(zile_sapt)\n",
    "# nu va aparea \"luni\" de 2 ori pentru ca setul pastreaza mai multe valori unice"
   ]
  },
  {
   "cell_type": "code",
   "execution_count": 2,
   "id": "c6f26deb",
   "metadata": {},
   "outputs": [
    {
     "name": "stdout",
     "output_type": "stream",
     "text": [
      "Weekend este un subset al zilelor din sapt\n"
     ]
    },
    {
     "data": {
      "text/plain": [
       "True"
      ]
     },
     "execution_count": 2,
     "metadata": {},
     "output_type": "execute_result"
    }
   ],
   "source": [
    "# 13.\n",
    "zile_sapt = {'luni', 'marti', 'miercuri', 'joi', 'vineri', 'sambata', 'duminica'}\n",
    "weekend = {'sambata', 'duminica'}\n",
    "if weekend & zile_sapt == weekend:\n",
    "    print(f'Weekend este un subset al zilelor din sapt')\n",
    "else:\n",
    "    print(f'Weekend nu este un subset al zilelor din sapt')\n",
    "weekend.issubset(zile_sapt)"
   ]
  },
  {
   "cell_type": "code",
   "execution_count": 73,
   "id": "c0ae99bb",
   "metadata": {},
   "outputs": [
    {
     "name": "stdout",
     "output_type": "stream",
     "text": [
      "{'joi', 'miercuri', 'vineri', 'marti', 'luni'}\n"
     ]
    }
   ],
   "source": [
    "# 14.\n",
    "zile_sapt = {'luni', 'marti', 'miercuri', 'joi', 'vineri', 'sambata', 'duminica'}\n",
    "weekend = {'sambata', 'duminica'}\n",
    "print(weekend ^ zile_sapt)"
   ]
  },
  {
   "cell_type": "code",
   "execution_count": 74,
   "id": "f2377da4",
   "metadata": {},
   "outputs": [
    {
     "name": "stdout",
     "output_type": "stream",
     "text": [
      "{'duminica', 'sambata'}\n"
     ]
    }
   ],
   "source": [
    "# 15.\n",
    "zile_sapt = {'luni', 'marti', 'miercuri', 'joi', 'vineri', 'sambata', 'duminica'}\n",
    "weekend = {'sambata', 'duminica'}\n",
    "print(zile_sapt & weekend)"
   ]
  },
  {
   "cell_type": "code",
   "execution_count": 9,
   "id": "2b3bd0ce",
   "metadata": {},
   "outputs": [
    {
     "name": "stdout",
     "output_type": "stream",
     "text": [
      "{1, 2, 3, 4, 5, 6}\n",
      "[1, 2, 3, 4, 5, 6]\n"
     ]
    }
   ],
   "source": [
    "# TODO (Easter egg): Avand lista l=[1,1,2,3,1,4,4,5,6,2], cum facem sa eliminam duplicatele?\n",
    "l = [1,1,2,3,1,4,4,5,6,2]\n",
    "s = set(l)\n",
    "print(s)\n",
    "l = list(s)\n",
    "print(l)"
   ]
  },
  {
   "cell_type": "code",
   "execution_count": null,
   "id": "16b69b15",
   "metadata": {},
   "outputs": [],
   "source": []
  }
 ],
 "metadata": {
  "kernelspec": {
   "display_name": "Python 3 (ipykernel)",
   "language": "python",
   "name": "python3"
  },
  "language_info": {
   "codemirror_mode": {
    "name": "ipython",
    "version": 3
   },
   "file_extension": ".py",
   "mimetype": "text/x-python",
   "name": "python",
   "nbconvert_exporter": "python",
   "pygments_lexer": "ipython3",
   "version": "3.10.7"
  }
 },
 "nbformat": 4,
 "nbformat_minor": 5
}
