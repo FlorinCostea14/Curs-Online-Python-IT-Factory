{
 "cells": [
  {
   "cell_type": "code",
   "execution_count": 1,
   "id": "045a49f6",
   "metadata": {},
   "outputs": [
    {
     "name": "stdout",
     "output_type": "stream",
     "text": [
      "a\n",
      "b\n",
      "c\n",
      "d\n",
      "e\n",
      "f\n",
      "g\n",
      "h\n",
      "i\n",
      "j\n",
      "k\n",
      "l\n",
      "m\n",
      "n\n",
      "o\n",
      "p\n",
      "q\n",
      "r\n",
      "s\n",
      "t\n",
      "u\n",
      "v\n",
      "w\n",
      "x\n",
      "y\n",
      "z\n"
     ]
    }
   ],
   "source": [
    "# 1.\n",
    "# a) Sa se scrie un iterator (clasa) pentru literele mici din alfabet\n",
    "\n",
    "class AlphabetIterator:\n",
    "    def __init__(self):\n",
    "        self.litera = 'a'\n",
    "    def __iter__(self):\n",
    "        return self\n",
    "    def __next__(self):\n",
    "        litera_curenta = self.litera\n",
    "        self.litera = chr(ord(self.litera)+1)\n",
    "        if ord(self.litera) > ord('z')+1:\n",
    "            raise StopIteration \n",
    "        return litera_curenta\n",
    "alphabet_it = AlphabetIterator()\n",
    "\n",
    "for litera in alphabet_it:\n",
    "    print(litera)\n",
    "        \n",
    "    \n",
    "\n"
   ]
  },
  {
   "cell_type": "code",
   "execution_count": 6,
   "id": "040ba419",
   "metadata": {},
   "outputs": [
    {
     "name": "stdout",
     "output_type": "stream",
     "text": [
      "a\n",
      "b\n",
      "c\n",
      "d\n",
      "e\n",
      "f\n",
      "g\n",
      "h\n",
      "i\n",
      "j\n",
      "k\n",
      "l\n",
      "m\n",
      "n\n",
      "o\n",
      "p\n",
      "q\n",
      "r\n",
      "s\n"
     ]
    }
   ],
   "source": [
    "# b) Adaugati o functie print_until_letter(the_letter) care sa afiseze doar literele pana la litera data ca argument\n",
    "\n",
    "def print_until_letter(the_letter):\n",
    "    alphabet_it_obj = AlphabetIterator()\n",
    "    for character in alphabet_it_obj:\n",
    "        if character <= the_letter:\n",
    "            print(character)\n",
    "print_until_letter('s')"
   ]
  },
  {
   "cell_type": "code",
   "execution_count": 9,
   "id": "635f15dc",
   "metadata": {},
   "outputs": [
    {
     "name": "stdout",
     "output_type": "stream",
     "text": [
      "1\n",
      "2\n",
      "3\n",
      "5\n",
      "7\n",
      "11\n",
      "13\n",
      "17\n",
      "19\n",
      "23\n"
     ]
    }
   ],
   "source": [
    "# 2.Generator pentru primele n nr prime\n",
    "# def prime_gen(n):\n",
    "#     pass\n",
    "\n",
    "# for nr in prime_gen(7):\n",
    "#     print(nr)\n",
    "#     # 1\n",
    "#     # 2\n",
    "#     # 3\n",
    "#     # 5\n",
    "#     # 7\n",
    "#     # 11\n",
    "#     # 13\n",
    "\n",
    "from math import sqrt\n",
    "def is_prime(nr):\n",
    "    for i in range(2, int(sqrt(nr))+1):\n",
    "        if nr % i == 0:\n",
    "            return False\n",
    "    return True\n",
    "\n",
    "def prime_gen(n):\n",
    "    generated_numbers = 0\n",
    "    current_number = 1\n",
    "    \n",
    "    while generated_numbers != n:\n",
    "        if is_prime(current_number):\n",
    "            yield current_number\n",
    "            generated_numbers += 1\n",
    "        current_number += 1\n",
    "\n",
    "for nr in prime_gen(10):\n",
    "    print(nr)\n",
    "    "
   ]
  },
  {
   "cell_type": "code",
   "execution_count": 10,
   "id": "0f69a220",
   "metadata": {},
   "outputs": [
    {
     "name": "stdout",
     "output_type": "stream",
     "text": [
      "[0, 1, 1, 2, 3, 5]\n"
     ]
    }
   ],
   "source": [
    "# 3.\n",
    "# a) Functie pentru primele n nr din sirul lui Fibonacci\n",
    "\n",
    "def fibo(n):\n",
    "    if n <= 0:\n",
    "        raise ValueError('Alegeti un numar mai mare decat 0')\n",
    "    fibo_numbers = []\n",
    "    a = 0\n",
    "    b = 1\n",
    "    for i in range(n):\n",
    "        fibo_numbers.append(a)\n",
    "        a, b = b, a + b\n",
    "    return fibo_numbers\n",
    "print(fibo(6))"
   ]
  },
  {
   "cell_type": "code",
   "execution_count": 15,
   "id": "5ab4fe79",
   "metadata": {},
   "outputs": [
    {
     "name": "stdout",
     "output_type": "stream",
     "text": [
      "0\n",
      "1\n",
      "1\n",
      "2\n",
      "3\n",
      "5\n",
      "8\n",
      "13\n",
      "21\n",
      "34\n"
     ]
    }
   ],
   "source": [
    "# b)\n",
    "#def fibo_gen(n):\n",
    "    # implementarea voastra aici\n",
    "\n",
    "\n",
    "#for i in fibo_gen(8):\n",
    "    # print(i)\n",
    "    # 0\n",
    "    # 1\n",
    "    # 1\n",
    "    # 2\n",
    "    # 3\n",
    "    # 5\n",
    "    # 8\n",
    "    # 13\n",
    "\n",
    "def fibo_gen(n):\n",
    "    a = 0\n",
    "    b = 1\n",
    "    for i in range(n):\n",
    "        yield a\n",
    "        a, b = b, a + b\n",
    "for val in fibo_gen(10):\n",
    "    print(val)"
   ]
  },
  {
   "cell_type": "code",
   "execution_count": null,
   "id": "8ab30b5a",
   "metadata": {},
   "outputs": [],
   "source": []
  }
 ],
 "metadata": {
  "kernelspec": {
   "display_name": "Python 3 (ipykernel)",
   "language": "python",
   "name": "python3"
  },
  "language_info": {
   "codemirror_mode": {
    "name": "ipython",
    "version": 3
   },
   "file_extension": ".py",
   "mimetype": "text/x-python",
   "name": "python",
   "nbconvert_exporter": "python",
   "pygments_lexer": "ipython3",
   "version": "3.10.7"
  }
 },
 "nbformat": 4,
 "nbformat_minor": 5
}
